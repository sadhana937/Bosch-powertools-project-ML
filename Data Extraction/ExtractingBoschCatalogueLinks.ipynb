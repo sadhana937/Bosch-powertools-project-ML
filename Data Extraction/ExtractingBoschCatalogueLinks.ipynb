{
 "cells": [
  {
   "cell_type": "code",
   "execution_count": 1,
   "id": "a75db867",
   "metadata": {},
   "outputs": [],
   "source": [
    "import bs4\n",
    "import requests"
   ]
  },
  {
   "cell_type": "code",
   "execution_count": 2,
   "id": "903597dd",
   "metadata": {},
   "outputs": [],
   "source": [
    "result=requests.get(\"https://www.bosch-professional.com/gb/en/knowledge-innovation/accessories-product-finder/\")"
   ]
  },
  {
   "cell_type": "code",
   "execution_count": 3,
   "id": "b2547cb1",
   "metadata": {},
   "outputs": [],
   "source": [
    "soup = bs4.BeautifulSoup(result.text,'html.parser')"
   ]
  },
  {
   "cell_type": "code",
   "execution_count": 4,
   "id": "bcd07ab0",
   "metadata": {},
   "outputs": [],
   "source": [
    "#appending the link of each category into the textfile\n",
    "with open('BoschCatalogueLinks.txt', 'w') as f:\n",
    "    for link in soup.find_all('a', class_='m-header_navigation_flyout__item trackingElement'):\n",
    "        href = link.get('href')\n",
    "        if href and href.startswith('https://www.bosch-professional.com'):\n",
    "            f.write(href + \"\\n\")"
   ]
  },
  {
   "cell_type": "code",
   "execution_count": null,
   "id": "33d68f8d",
   "metadata": {},
   "outputs": [],
   "source": []
  }
 ],
 "metadata": {
  "kernelspec": {
   "display_name": "Python 3 (ipykernel)",
   "language": "python",
   "name": "python3"
  },
  "language_info": {
   "codemirror_mode": {
    "name": "ipython",
    "version": 3
   },
   "file_extension": ".py",
   "mimetype": "text/x-python",
   "name": "python",
   "nbconvert_exporter": "python",
   "pygments_lexer": "ipython3",
   "version": "3.9.13"
  }
 },
 "nbformat": 4,
 "nbformat_minor": 5
}
